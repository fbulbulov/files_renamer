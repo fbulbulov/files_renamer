{
 "cells": [
  {
   "cell_type": "code",
   "execution_count": 1,
   "id": "225d0628",
   "metadata": {
    "ExecuteTime": {
     "end_time": "2021-09-02T08:50:39.548124Z",
     "start_time": "2021-09-02T08:50:39.509147Z"
    }
   },
   "outputs": [],
   "source": [
    "import os"
   ]
  },
  {
   "cell_type": "code",
   "execution_count": null,
   "id": "47327fee",
   "metadata": {},
   "outputs": [],
   "source": [
    "for i in os.listdir():\n",
    "    os.rename(i,str(count)+ '.'+ i.split('.')[-1])\n",
    "    count+=1"
   ]
  }
 ],
 "metadata": {
  "kernelspec": {
   "display_name": "Python 3",
   "language": "python",
   "name": "python3"
  },
  "language_info": {
   "codemirror_mode": {
    "name": "ipython",
    "version": 3
   },
   "file_extension": ".py",
   "mimetype": "text/x-python",
   "name": "python",
   "nbconvert_exporter": "python",
   "pygments_lexer": "ipython3",
   "version": "3.9.5"
  }
 },
 "nbformat": 4,
 "nbformat_minor": 5
}
